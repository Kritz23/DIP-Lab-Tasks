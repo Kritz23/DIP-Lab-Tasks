{
 "cells": [
  {
   "cell_type": "code",
   "execution_count": 82,
   "metadata": {},
   "outputs": [
    {
     "name": "stdout",
     "output_type": "stream",
     "text": [
      "Input sequence: 0001111000011111\n",
      "Encoded sequence: 0110100110001011\n"
     ]
    }
   ],
   "source": [
    "data=\"0001111000011111\"\n",
    "count=[]\n",
    "count_bin=[]\n",
    "bits=[]\n",
    "bits.append(data[0])\n",
    "c=1\n",
    "for i in range(1,len(data)):\n",
    "    if data[i]==data[i-1]:\n",
    "        c=c+1\n",
    "    else:\n",
    "        count.append(c)\n",
    "        bits.append(data[i])\n",
    "        c=1\n",
    "count.append(c)\n",
    "\n",
    "m=(max(count))\n",
    "\n",
    "max_bi=\"{0:b}\".format(m)\n",
    "l=len(max_bi)\n",
    "\n",
    "for i in count:\n",
    "    bi=bin(i).split(\"b\")[1]\n",
    "    if len(bi)<=l:\n",
    "        b='0'*(l-len(bi))+bi  \n",
    "        count_bin.append(b)\n",
    "        \n",
    "enc=''\n",
    "for i in range(len(arr_un)):\n",
    "    enc=enc+count_bin[i]\n",
    "    enc=enc+bits[i]\n",
    "    \n",
    "print(\"Input sequence:\",data)    \n",
    "print(\"Encoded sequence:\",enc)"
   ]
  },
  {
   "cell_type": "code",
   "execution_count": null,
   "metadata": {},
   "outputs": [],
   "source": [
    "\"\"\"\n",
    "data = \"0001111000011111\"\n",
    "encoded = ''\n",
    "prev_bit = ''\n",
    "count = 1\n",
    "get_bin = lambda x, n: format(x, 'b').zfill(n)\n",
    "max_count = 0\n",
    "count_list = []\n",
    "\n",
    "for bit in data:\n",
    "    if bit != prev_bit:\n",
    "        if prev_bit:\n",
    "            count_list.append(len(\"{0:b}\".format(count)))\n",
    "            max_count = max(count_list)\n",
    "            encoded += get_bin(count,max_count) + prev_bit        \n",
    "        count = 1\n",
    "        prev_bit = bit\n",
    "    else:\n",
    "        count += 1\n",
    "\n",
    "encoded += get_bin(count,max_count) + prev_bit\n",
    "    \n",
    "print(encoded)\n",
    "\"\"\""
   ]
  }
 ],
 "metadata": {
  "kernelspec": {
   "display_name": "Python 3",
   "language": "python",
   "name": "python3"
  },
  "language_info": {
   "codemirror_mode": {
    "name": "ipython",
    "version": 3
   },
   "file_extension": ".py",
   "mimetype": "text/x-python",
   "name": "python",
   "nbconvert_exporter": "python",
   "pygments_lexer": "ipython3",
   "version": "3.7.6"
  }
 },
 "nbformat": 4,
 "nbformat_minor": 4
}
