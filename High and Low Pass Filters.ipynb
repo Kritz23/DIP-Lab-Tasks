{
 "cells": [
  {
   "cell_type": "code",
   "execution_count": null,
   "metadata": {},
   "outputs": [],
   "source": [
    "import numpy as np\n",
    "import cv2\n",
    "from scipy import ndimage\n",
    "\n",
    "class HPF(object):\n",
    "    def __init__(self, kernel, image):\n",
    "        self.kernel = np.array(kernel)\n",
    "        self.image = image\n",
    "\n",
    "    def process(self):\n",
    "        return ndimage.convolve(self.image, self.kernel)\n",
    "\n",
    "\n",
    "if __name__ == \"__main__\":\n",
    "    #enter ur image location\n",
    "    image = cv2.imread(\"lena.png\", 0)\n",
    "    kernel3x3 = [[-1,-1,-1],[-1,8,-1],[-1,-1,-1]]\n",
    "    \n",
    "    kernel2 = 1/9*(np.asarray([[1,1,1],[1,1,1],[1,1,1]]))\n",
    "\n",
    "    hpf1 = HPF(kernel3x3, image)\n",
    "    hpfimage1 = hpf1.process()\n",
    "    hpf2 = HPF(kernel2, image)\n",
    "    hpfimage2 = hpf2.process()\n",
    "    cv2.imshow(\"High Pass\",hpfimage1)\n",
    "    cv2.imwrite(\"HP.jpg\",hpfimage1)\n",
    "    cv2.imshow(\"Low Pass\",hpfimage2)\n",
    "    cv2.imwrite(\"LP.jpg\",hpfimage2)\n",
    "    cv2.waitKey()\n",
    "    cv2.destroyAllWindows()"
   ]
  },
  {
   "cell_type": "code",
   "execution_count": null,
   "metadata": {},
   "outputs": [],
   "source": []
  }
 ],
 "metadata": {
  "kernelspec": {
   "display_name": "Python 3",
   "language": "python",
   "name": "python3"
  },
  "language_info": {
   "codemirror_mode": {
    "name": "ipython",
    "version": 3
   },
   "file_extension": ".py",
   "mimetype": "text/x-python",
   "name": "python",
   "nbconvert_exporter": "python",
   "pygments_lexer": "ipython3",
   "version": "3.7.6"
  }
 },
 "nbformat": 4,
 "nbformat_minor": 4
}
