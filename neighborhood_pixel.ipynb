{
 "cells": [
  {
   "cell_type": "code",
   "execution_count": 8,
   "metadata": {},
   "outputs": [],
   "source": [
    "import numpy as np\n",
    "import cv2\n",
    "# Read the image in greyscale\n",
    "img = cv2.imread('lena.png',0)"
   ]
  },
  {
   "cell_type": "code",
   "execution_count": 10,
   "metadata": {},
   "outputs": [
    {
     "data": {
      "text/plain": [
       "array([[169, 169, 168, ..., 175, 162, 138],\n",
       "       [169, 169, 168, ..., 175, 162, 138],\n",
       "       [169, 169, 168, ..., 175, 162, 138],\n",
       "       ...,\n",
       "       [ 53,  53,  59, ..., 115, 112, 114],\n",
       "       [ 53,  53,  64, ..., 117, 118, 122],\n",
       "       [ 53,  53,  64, ..., 117, 118, 122]], dtype=uint8)"
      ]
     },
     "execution_count": 10,
     "metadata": {},
     "output_type": "execute_result"
    }
   ],
   "source": [
    "img"
   ]
  },
  {
   "cell_type": "code",
   "execution_count": 7,
   "metadata": {},
   "outputs": [],
   "source": [
    "def morphological(im, operator=np.min, nx=5, ny=5):\n",
    "    newIm = np.zeros(im.shape)\n",
    "    for x in range(im.shape[0]):\n",
    "        for y in range(im.shape[1]):\n",
    "            nlst = neighbours(im, x, y, nx, ny)\n",
    "            newIm[x,y] = operator(nlst)\n",
    "    return newIm"
   ]
  },
  {
   "cell_type": "code",
   "execution_count": 11,
   "metadata": {},
   "outputs": [],
   "source": [
    "def neighbours(im, x, y, nx=1, ny=1):\n",
    "    return im[max(x-nx, 0) : min(x+nx+1, im.shape[0]), max(y-ny, 0) : min(y+ny+1, im.shape[1])]"
   ]
  },
  {
   "cell_type": "code",
   "execution_count": 14,
   "metadata": {},
   "outputs": [],
   "source": [
    "def pixel_neighbours(self, p):\n",
    "\n",
    "    rows, cols = self.im.shape\n",
    "\n",
    "    i, j = p[0], p[1]\n",
    "\n",
    "    rmin = i - 1 if i - 1 >= 0 else 0\n",
    "    rmax = i + 1 if i + 1 < rows else i\n",
    "\n",
    "    cmin = j - 1 if j - 1 >= 0 else 0\n",
    "    cmax = j + 1 if j + 1 < cols else j\n",
    "\n",
    "    neighbours = []\n",
    "\n",
    "    for x in xrange(rmin, rmax + 1):\n",
    "        for y in xrange(cmin, cmax + 1):\n",
    "            neighbours.append([x, y])\n",
    "    neighbours.remove([p[0], p[1]])\n",
    "\n",
    "    return neighbours"
   ]
  },
  {
   "cell_type": "code",
   "execution_count": null,
   "metadata": {
    "collapsed": true
   },
   "outputs": [],
   "source": []
  }
 ],
 "metadata": {
  "anaconda-cloud": {},
  "kernelspec": {
   "display_name": "Python 3",
   "language": "python",
   "name": "python3"
  },
  "language_info": {
   "codemirror_mode": {
    "name": "ipython",
    "version": 3
   },
   "file_extension": ".py",
   "mimetype": "text/x-python",
   "name": "python",
   "nbconvert_exporter": "python",
   "pygments_lexer": "ipython3",
   "version": "3.7.6"
  }
 },
 "nbformat": 4,
 "nbformat_minor": 2
}
