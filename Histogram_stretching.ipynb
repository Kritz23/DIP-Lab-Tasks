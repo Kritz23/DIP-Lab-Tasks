{
 "cells": [
  {
   "cell_type": "code",
   "execution_count": 1,
   "metadata": {},
   "outputs": [],
   "source": [
    "from PIL import Image\n",
    "\n",
    "# Method to process the red band of the image\n",
    "def normalizeRed(intensity):\n",
    "    iI      = intensity\n",
    "    minI    = 86\n",
    "    maxI    = 230\n",
    "    minO    = 0\n",
    "    maxO    = 255\n",
    "    iO      = (iI-minI)*(((maxO-minO)/(maxI-minI))+minO)\n",
    "\n",
    "    return iO\n",
    "\n",
    "# Method to process the green band of the image\n",
    "def normalizeGreen(intensity):\n",
    "    iI      = intensity\n",
    "    minI    = 90\n",
    "    maxI    = 225\n",
    "    minO    = 0\n",
    "    maxO    = 255\n",
    "    iO      = (iI-minI)*(((maxO-minO)/(maxI-minI))+minO)\n",
    "\n",
    "    return iO\n",
    "\n",
    "# Method to process the blue band of the image\n",
    "def normalizeBlue(intensity):\n",
    "    iI      = intensity\n",
    "    minI    = 100\n",
    "    maxI    = 210\n",
    "    minO    = 0\n",
    "    maxO    = 255\n",
    "    iO      = (iI-minI)*(((maxO-minO)/(maxI-minI))+minO)\n",
    "    \n",
    "    return iO"
   ]
  },
  {
   "cell_type": "code",
   "execution_count": 3,
   "metadata": {},
   "outputs": [],
   "source": [
    "# Create an image object\n",
    "imageObject     = Image.open(\"hist_stretching.png\")\n",
    "\n",
    "# Split the red, green and blue bands from the Image\n",
    "multiBands      = imageObject.split()\n",
    "\n",
    "# Apply point operations that does contrast stretching on each color band\n",
    "normalizedRedBand      = multiBands[0].point(normalizeRed)\n",
    "normalizedGreenBand    = multiBands[1].point(normalizeGreen)\n",
    "normalizedBlueBand     = multiBands[2].point(normalizeBlue)\n",
    "\n",
    "# Create a new image from the contrast stretched red, green and blue brands\n",
    "normalizedImage = Image.merge(\"RGB\", (normalizedRedBand, normalizedGreenBand, normalizedBlueBand))\n",
    "\n",
    "# Display the image before contrast stretching\n",
    "imageObject.show()\n",
    "\n",
    "# Display the image after contrast stretching\n",
    "normalizedImage.show()"
   ]
  },
  {
   "cell_type": "code",
   "execution_count": 5,
   "metadata": {},
   "outputs": [],
   "source": [
    "normalizedImage.save(\"after_stretching.png\")"
   ]
  },
  {
   "cell_type": "code",
   "execution_count": null,
   "metadata": {},
   "outputs": [],
   "source": []
  }
 ],
 "metadata": {
  "kernelspec": {
   "display_name": "Python 3",
   "language": "python",
   "name": "python3"
  },
  "language_info": {
   "codemirror_mode": {
    "name": "ipython",
    "version": 3
   },
   "file_extension": ".py",
   "mimetype": "text/x-python",
   "name": "python",
   "nbconvert_exporter": "python",
   "pygments_lexer": "ipython3",
   "version": "3.7.6"
  }
 },
 "nbformat": 4,
 "nbformat_minor": 4
}
